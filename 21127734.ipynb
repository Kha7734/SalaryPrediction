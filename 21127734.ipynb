{
 "cells": [
  {
   "cell_type": "markdown",
   "metadata": {},
   "source": [
    "# <center>Đồ án 3: Linear Regression</center>"
   ]
  },
  {
   "cell_type": "markdown",
   "metadata": {},
   "source": [
    "# Thông tin sinh viên\n",
    "\n",
    "- Họ và tên: Huỳnh Sỉ Kha\n",
    "- MSSV: 21127734\n",
    "- Lớp: 21CLC02"
   ]
  },
  {
   "cell_type": "markdown",
   "metadata": {},
   "source": [
    "# Import"
   ]
  },
  {
   "cell_type": "code",
   "execution_count": 1,
   "metadata": {},
   "outputs": [],
   "source": [
    "import pandas as pd\n",
    "import numpy as np\n",
    "import matplotlib.pyplot as plt\n",
    "from sklearn.model_selection import KFold\n",
    "\n",
    "# 1D\n",
    "# Model1\n",
    "from itertools import combinations\n",
    "# Model2: XGBOOST\n",
    "from sklearn.model_selection import train_test_split\n",
    "import xgboost as xgb\n",
    "# Model3: Genetic Algorithm\n",
    "import random"
   ]
  },
  {
   "cell_type": "markdown",
   "metadata": {},
   "source": [
    "# Đọc dữ liệu"
   ]
  },
  {
   "cell_type": "code",
   "execution_count": 2,
   "metadata": {},
   "outputs": [],
   "source": [
    "# Đọc dữ liệu bằng pandas\n",
    "train = pd.read_csv('train.csv')\n",
    "test = pd.read_csv('test.csv')\n",
    "\n",
    "# Lấy các đặc trưng X và giá trị mục tiêu y cho các tập huấn luyện (train) và kiểm tra (test)\n",
    "X_train = train.iloc[:, :-1]    # Dataframe (chứa các đặc trưng huấn luyện) \n",
    "y_train = train.iloc[:, -1]     # Series    (chứa 1 giá trị mục tiêu kiểm tra)\n",
    "# .loc[\"Gender\", ...]:  lấy theo tên cột\n",
    "# .iloc[:, :11]: lấy theo vị trí.\n",
    "\n",
    "X_test = test.iloc[:, :-1]      # Dataframe (chứa các đặc trưng kiểm tra)\n",
    "y_test = test.iloc[:, -1]       # Series    (chứa 1 giá trị mục tiêu kiểm tra)\n",
    "\n",
    "# Sinh viên có thể sử dụng các khác nếu cần"
   ]
  },
  {
   "cell_type": "markdown",
   "metadata": {},
   "source": [
    "# Cài đặt hàm"
   ]
  },
  {
   "cell_type": "code",
   "execution_count": 3,
   "metadata": {},
   "outputs": [],
   "source": [
    "# Cài đặt các hàm cần thiết ở đây\n",
    "class LinearRegression:\n",
    "    def fit(self, X, y):\n",
    "        X_pinv = np.linalg.pinv(X)\n",
    "        self.w = X_pinv @ y\n",
    "        \n",
    "        return self\n",
    "\n",
    "    def get_params(self):\n",
    "        return self.w\n",
    "\n",
    "    def predict(self, X):\n",
    "        return np.sum(self.w.ravel() * X, axis=1)\n",
    "\n",
    "def MAE(y, y_hat):\n",
    "    return np.mean(np.abs(y.ravel() - y_hat.ravel()))\n",
    "\n",
    "def calc_MAE_with_features(kFold, features):\n",
    "    for train_index, test_index in kFold.split(X_train):\n",
    "        y_features_train, y_features_test = y_train[train_index], y_train[test_index]\n",
    "\n",
    "        for i in features.keys():\n",
    "            x_features_train = X_train.loc[train_index, [i]]\n",
    "            x_features_test = X_train.loc[test_index, [i]]\n",
    "\n",
    "            lr = LinearRegression().fit(x_features_train, y_features_train)\n",
    " \n",
    "            y_pred = lr.predict(x_features_test)\n",
    "\n",
    "            features[i].append(MAE(y_features_test, y_pred))\n",
    "    \n",
    "    return features"
   ]
  },
  {
   "cell_type": "markdown",
   "metadata": {},
   "source": [
    "# Yêu cầu 1a: Sử dụng toàn bộ 11 đặc trưng đầu tiên `Gender`, `10percentage`, `12percentage`, `CollegeTier`, `Degree`, `collegeGPA`, `CollegeCityTier`, `English`, `Logical`, `Quant`, `Domain` (2 điểm) "
   ]
  },
  {
   "cell_type": "code",
   "execution_count": 4,
   "metadata": {},
   "outputs": [],
   "source": [
    "# Phần code cho yêu cầu 1a\n",
    "a_column = [\"Gender\", \"10percentage\", \"12percentage\", \"CollegeTier\", \"Degree\", \"collegeGPA\", \"CollegeCityTier\", \"English\", \"Logical\", \"Quant\", \"Domain\"]\n",
    "\n",
    "X_1a_train = X_train.loc[:, a_column]\n",
    "Y_1a_train = y_train\n",
    "\n",
    "X_1a_test = X_test.loc[:, a_column]\n",
    "Y_1a_test = y_test\n",
    "\n",
    "# Training model\n",
    "lr = LinearRegression().fit(X_1a_train, Y_1a_train)\n",
    "\n",
    "# Predict\n",
    "y_hat = lr.predict(X_1a_test)\n"
   ]
  },
  {
   "cell_type": "code",
   "execution_count": 5,
   "metadata": {},
   "outputs": [
    {
     "name": "stdout",
     "output_type": "stream",
     "text": [
      "MAE:  104863.77754033144\n"
     ]
    }
   ],
   "source": [
    "# Gọi hàm MAE (tự cài đặt hoặc từ thư viện) trên tập kiểm tra\n",
    "print(\"MAE: \", MAE(Y_1a_test, y_hat))\n",
    "# print(lr.get_params())"
   ]
  },
  {
   "cell_type": "markdown",
   "metadata": {},
   "source": [
    "Công thức hồi quy (phần trọng số làm tròn đến 3 chữ số thập phân, ví dụ 0.012345 $\\to$ 0.012)\n",
    "\n",
    "$$\\text{Salary} = -22756.513 * Gender + 804.503 * 10percentage + 1294.655 * 12percentage - 91781.898 * CollegeTier \\\\ + 23182.389 * Degree + 1437.549 * collegeGPA - 8570.663 * CollegeCityTier + 147.858 * English + 152.888 * Logical \\\\ + 117.222 * Quant + 34552.286 * Domain$$"
   ]
  },
  {
   "cell_type": "markdown",
   "metadata": {},
   "source": [
    "# Yêu cầu 1b: Xây dựng mô hình sử dụng duy nhất 1 đặc trưng tính cách với các đặc trưng tính cách gồm `conscientiousness`, `agreeableness`, `extraversion`, `nueroticism`, `openess_to_experience`, tìm mô hình cho kết quả tốt nhất (1 điểm)"
   ]
  },
  {
   "cell_type": "markdown",
   "metadata": {},
   "source": [
    "Lưu ý: khi sử dụng cross-validation, sinh viên cần xáo trộn dữ liệu 1 lần duy nhất và thực hiện trên toàn bộ đặc trưng"
   ]
  },
  {
   "cell_type": "code",
   "execution_count": 6,
   "metadata": {},
   "outputs": [],
   "source": [
    "def find_best_model(model:dict):\n",
    "    min_mean = float(\"inf\") \n",
    "    best_key = None\n",
    "    \n",
    "    for key, values in model.items():\n",
    "        mean = np.mean(values)\n",
    "        if mean < min_mean:\n",
    "            min_mean = mean \n",
    "            best_key = key \n",
    "    return min_mean, best_key"
   ]
  },
  {
   "cell_type": "code",
   "execution_count": 7,
   "metadata": {},
   "outputs": [
    {
     "name": "stdout",
     "output_type": "stream",
     "text": [
      "Best_personality_feature_model:  299292.7309212932 nueroticism\n",
      "\n",
      "Cross-validation results:\n",
      "conscientiousness :  306173.2772087398\n",
      "agreeableness :  300862.5475420066\n",
      "extraversion :  306854.2364803871\n",
      "nueroticism :  299292.7309212932\n",
      "openess_to_experience :  303083.9046157337\n"
     ]
    }
   ],
   "source": [
    "# Phần code cho yêu cầu 1b\n",
    "splits = 5\n",
    "kf = KFold(n_splits=splits, shuffle=True, random_state=39)\n",
    "\n",
    "b_column = {\"conscientiousness\" : [],\n",
    "            \"agreeableness\" : [],\n",
    "            \"extraversion\" : [],\n",
    "            \"nueroticism\" : [],\n",
    "            \"openess_to_experience\" : []}\n",
    "\n",
    "b_column = calc_MAE_with_features(kf, b_column)\n",
    "        \n",
    "# Tìm ra đặc trưng tốt nhất\n",
    "best_value, best_personality_feature_model = find_best_model(b_column)\n",
    "print(\"Best_personality_feature_model: \", best_value, best_personality_feature_model)\n",
    "\n",
    "# In ra các kết quả cross-validation như yêu cầu\n",
    "print(\"\\nCross-validation results:\")\n",
    "for i in b_column.keys():\n",
    "    print(i, \": \", np.mean(b_column[i]))\n"
   ]
  },
  {
   "cell_type": "code",
   "execution_count": 8,
   "metadata": {},
   "outputs": [],
   "source": [
    "# Huấn luyện lại mô hình best_personality_feature_model với đặc trưng tốt nhất trên toàn bộ tập huấn luyện\n",
    "x_1b_train = X_train.loc[:, [best_personality_feature_model]]\n",
    "x_1b_test = X_test.loc[:, [best_personality_feature_model]]\n",
    "\n",
    "lr = LinearRegression().fit(x_1b_train, y_train)"
   ]
  },
  {
   "cell_type": "code",
   "execution_count": 9,
   "metadata": {},
   "outputs": [
    {
     "name": "stdout",
     "output_type": "stream",
     "text": [
      "MAE:  291019.693226953\n"
     ]
    }
   ],
   "source": [
    "# Gọi hàm MAE (tự cài đặt hoặc từ thư viện) trên tập kiểm tra với mô hình best_personality_feature_model\n",
    "y_pred = lr.predict(x_1b_test)\n",
    "print(\"MAE: \", MAE(y_test, y_pred))\n",
    "# print(lr.get_params())"
   ]
  },
  {
   "cell_type": "markdown",
   "metadata": {},
   "source": [
    "Công thức hồi quy (phần trọng số làm tròn đến 3 chữ số thập phân, ví dụ 0.012345 $\\to$ 0.012)\n",
    "\n",
    "$$\\text{Salary} = -56546.308 * nueroticism$$"
   ]
  },
  {
   "cell_type": "markdown",
   "metadata": {},
   "source": [
    "# Yêu cầu 1c: Xây dựng mô hình sử dụng duy nhất 1 đặc trưng `English`, `Logical`, `Quant`, tìm mô hình cho kết quả tốt nhất (1 điểm)"
   ]
  },
  {
   "cell_type": "markdown",
   "metadata": {},
   "source": [
    "Lưu ý: khi sử dụng cross-validation, sinh viên cần xáo trộn dữ liệu 1 lần duy nhất và thực hiện trên toàn bộ đặc trưng"
   ]
  },
  {
   "cell_type": "code",
   "execution_count": 10,
   "metadata": {},
   "outputs": [
    {
     "name": "stdout",
     "output_type": "stream",
     "text": [
      "Best_skill_feature_model:  118051.21667524746 Quant\n",
      "\n",
      "Cross-validation results:\n",
      "English :  121873.90116281415\n",
      "Logical :  120269.53069288726\n",
      "Quant :  118051.21667524746\n"
     ]
    }
   ],
   "source": [
    "# Phần code cho yêu cầu 1c\n",
    "c_column = {\"English\" : [],\n",
    "            \"Logical\" : [],\n",
    "            \"Quant\" : []}\n",
    "\n",
    "c_column = calc_MAE_with_features(kf, c_column)\n",
    "\n",
    "# Tìm ra đặc trưng tốt nhất\n",
    "best_value, best_skill_feature_model = find_best_model(c_column)\n",
    "print(\"Best_skill_feature_model: \", best_value, best_skill_feature_model)\n",
    "\n",
    "# In ra các kết quả cross-validation như yêu cầu\n",
    "print(\"\\nCross-validation results:\")\n",
    "for i in c_column.keys():\n",
    "    print(i, \": \", np.mean(c_column[i]))"
   ]
  },
  {
   "cell_type": "code",
   "execution_count": 11,
   "metadata": {},
   "outputs": [],
   "source": [
    "# Huấn luyện lại mô hình best_skill_feature_model với đặc trưng tốt nhất trên toàn bộ tập huấn luyện\n",
    "x_1c_train = X_train.loc[:, [best_skill_feature_model]]\n",
    "x_1c_test = X_test.loc[:, [best_skill_feature_model]]\n",
    "\n",
    "lr = LinearRegression().fit(x_1c_train, y_train)"
   ]
  },
  {
   "cell_type": "code",
   "execution_count": 12,
   "metadata": {},
   "outputs": [
    {
     "name": "stdout",
     "output_type": "stream",
     "text": [
      "MAE:  106819.5776198967\n"
     ]
    }
   ],
   "source": [
    "# Gọi hàm MAE (tự cài đặt hoặc từ thư viện) trên tập kiểm tra với mô hình best_skill_feature_model\n",
    "y_pred = lr.predict(x_1c_test)\n",
    "print(\"MAE: \", MAE(y_test, y_pred))\n",
    "# print(lr.get_params())"
   ]
  },
  {
   "cell_type": "markdown",
   "metadata": {},
   "source": [
    "Công thức hồi quy (phần trọng số làm tròn đến 3 chữ số thập phân, ví dụ 0.012345 $\\to$ 0.012)\n",
    "\n",
    "$$\\text{Salary} = 585.895 * Quant$$"
   ]
  },
  {
   "cell_type": "markdown",
   "metadata": {},
   "source": [
    "# Yêu cầu 1d: Sinh viên tự xây dựng mô hình, tìm mô hình cho kết quả tốt nhất (3 điểm)"
   ]
  },
  {
   "cell_type": "markdown",
   "metadata": {},
   "source": [
    "Lưu ý: khi sử dụng cross-validation, sinh viên cần xáo trộn dữ liệu 1 lần duy nhất và thực hiện trên toàn bộ $m$ mô hình mà sinh viên thiết kế"
   ]
  },
  {
   "cell_type": "markdown",
   "metadata": {},
   "source": [
    "## Tìm mô hình"
   ]
  },
  {
   "cell_type": "markdown",
   "metadata": {},
   "source": [
    "### Mô hình 1: Kết hợp từ 1a, 1b, 1c\n",
    "- Gọi hàm bruteforce() để tìm ra tổ hợp các đặc trưng cho kết quả MAE tốt nhất từ các mô hình:\n",
    "    - Mô hình câu 1a, 1b, 1c + Mô hình 7 đặc trưng về điểm số trong phần kỹ thuật.\n",
    "    - Gọi lần lượt cho từng mô hình nhằm tránh hiện tượng thời gian chạy quá lâu.\n",
    "- Sau đó kết hợp các kết quả trên để tạo ra 1 mô hình, rồi huấn luyện và thử nghiệm lại trên tập kiểm thử."
   ]
  },
  {
   "cell_type": "code",
   "execution_count": 13,
   "metadata": {},
   "outputs": [],
   "source": [
    "# Brute force\n",
    "def find_best_feature_combination(X_train, y_train, features):\n",
    "    best_mae = float('inf')\n",
    "    best_feature_combination = []\n",
    "\n",
    "    # Loop through all possible combinations of features\n",
    "    for r in range(1, len(features) + 1):\n",
    "        for combo in combinations(features, r):\n",
    "            selected_features = list(combo)\n",
    "\n",
    "            x_features_train = X_train[selected_features]\n",
    "            lr = LinearRegression().fit(x_features_train, y_train)\n",
    "            y_pred = lr.predict(X_test[selected_features])\n",
    "            mae = MAE(y_test, y_pred)\n",
    "\n",
    "            if mae < best_mae:\n",
    "                best_mae = mae\n",
    "                best_feature_combination = selected_features\n",
    "\n",
    "    return best_mae, best_feature_combination\n",
    "\n",
    "\n",
    "# Create a dictionary of features to try\n",
    "# Seperate features into 1a, 1b, 1c for optimal time complexity.\n",
    "features_to_try = [\"Gender\", \"10percentage\", \"CollegeTier\", \"Degree\", \"collegeGPA\", \"CollegeCityTier\", \"Quant\", \"Domain\", \n",
    "                   \"ComputerProgramming\", \"ElectronicsAndSemicon\", \"ComputerScience\", \"MechanicalEngg\", \"ElectricalEngg\", \"TelecomEngg\", \"CivilEngg\",\n",
    "                   \"conscientiousness\", \"agreeableness\", \"extraversion\", \"nueroticism\", \"openess_to_experience\"]\n",
    "\n",
    "# Loop all features, calculate MAE and return the best combination\n",
    "# best_mae, best_features = find_best_feature_combination(X_train, y_train, features_to_try)"
   ]
  },
  {
   "cell_type": "code",
   "execution_count": 14,
   "metadata": {},
   "outputs": [],
   "source": [
    "# Result of the 1st model\n",
    "model_1st =  [\"10percentage\", \"12percentage\", \"CollegeTier\", \"collegeGPA\", \"CollegeCityTier\", \"Quant\", \"Domain\", \"ComputerProgramming\", \"ElectronicsAndSemicon\", \"ComputerScience\",\n",
    "             \"MechanicalEngg\", \"conscientiousness\", \"agreeableness\", \"nueroticism\", \"openess_to_experience\"]"
   ]
  },
  {
   "cell_type": "markdown",
   "metadata": {},
   "source": [
    "### Mô hình 2: Sử dụng thuật toán XG-BOOST\n",
    "- Chạy thuật toán XG-BOOST với các tham số mặc định. \n",
    "- Đánh giá mô hình bằng các độ đo: F1-score.\n",
    "- Chọn ra các đặc trưng có đóng góp trên 15% vào mô hình.\n",
    "- Huấn luyện trên mô hình đó và kiểm thử."
   ]
  },
  {
   "cell_type": "code",
   "execution_count": 15,
   "metadata": {},
   "outputs": [
    {
     "name": "stdout",
     "output_type": "stream",
     "text": [
      "MAE:  104182.43802083333\n"
     ]
    },
    {
     "data": {
      "image/png": "[encoded data removed]",
      "text/plain": [
       "<Figure size 640x480 with 1 Axes>"
      ]
     },
     "metadata": {},
     "output_type": "display_data"
    }
   ],
   "source": [
    "# Build model with XGBoost\n",
    "model = xgb.XGBRegressor(n_estimators=100, max_depth=3, learning_rate=0.1, random_state=42)\n",
    "\n",
    "# Train model\n",
    "model.fit(X_train, y_train)\n",
    "y_pred = model.predict(X_test)\n",
    "\n",
    "# Evaluate model\n",
    "print(\"MAE: \", MAE(y_test, y_pred))\n",
    "\n",
    "# Plot feature importance\n",
    "xgb.plot_importance(model)\n",
    "plt.show()"
   ]
  },
  {
   "cell_type": "code",
   "execution_count": 16,
   "metadata": {},
   "outputs": [],
   "source": [
    "# Result of 3rd model\n",
    "model_2nd = [\"conscientiousness\", \"Logical\", \"10percentage\", \"collegeGPA\", \"agreeableness\", \n",
    "            \"Quant\", \"ComputerProgramming\", \"English\", \"Domain\", \"12percentage\",\n",
    "            \"nueroticism\", \"openess_to_experience\", \"ComputerScience\", \"extraversion\",\n",
    "            \"Gender\", \"CollegeTier\"]"
   ]
  },
  {
   "cell_type": "markdown",
   "metadata": {},
   "source": [
    "### Mô hình 3: Genetic Algorithm\n",
    "- Cài đặt thuật toán Genetic để tìm ra tổ hợp cho kết quả MAE tốt trong 23 mô hình ban đầu.\n",
    "- Huấn luyện trên mô hình đó và đánh giá kết quả."
   ]
  },
  {
   "cell_type": "code",
   "execution_count": 17,
   "metadata": {},
   "outputs": [],
   "source": [
    "# Number of individuals in a population\n",
    "population_size = 50\n",
    "\n",
    "# Number of generations\n",
    "num_generations = 50\n",
    "\n",
    "features = [\"Gender\", \"10percentage\", \"12percentage\", \"CollegeTier\",\n",
    "            \"Degree\", \"collegeGPA\", \"CollegeCityTier\", \n",
    "            \"English\", \"Logical\", \"Quant\", \"Domain\", \"ComputerProgramming\", \"ElectronicsAndSemicon\", \n",
    "            \"ComputerScience\", \"MechanicalEngg\", \"ElectricalEngg\", \"TelecomEngg\", \"CivilEngg\", \"conscientiousness\", \n",
    "            \"agreeableness\", \"extraversion\", \"nueroticism\", \"openess_to_experience\"]\n",
    "\n",
    "# Evaluate the fitness of an individual by calculating MAE of a linear regression model\n",
    "def evaluate_solution(solution):\n",
    "    selected_feature_indices = [i for i, selected in enumerate(solution) if selected == 1]\n",
    "    X_train_selected = X_train.iloc[:, selected_feature_indices]\n",
    "    X_test_selected = X_test.iloc[:, selected_feature_indices]\n",
    "    \n",
    "    lr = LinearRegression().fit(X_train_selected, y_train)\n",
    "    y_pred = lr.predict(X_test_selected)\n",
    "    mae = MAE(y_test, y_pred)\n",
    "    return mae\n",
    "\n",
    "# Initialize the population\n",
    "population = [np.random.randint(2, size=len(features)) for _ in range(population_size)]\n",
    "\n",
    "# Evolve the population\n",
    "for generation in range(num_generations):\n",
    "    # Evaluate the fitness of each individual\n",
    "    fitness_scores = [evaluate_solution(solution) for solution in population]\n",
    "    \n",
    "    # Choose the best individual\n",
    "    best_solution_index = np.argmin(fitness_scores)\n",
    "    best_solution = population[best_solution_index]\n",
    "    \n",
    "    # Generate a new population by crossover and mutation\n",
    "    new_population = []\n",
    "    for _ in range(population_size):\n",
    "        parent1 = random.choice(population)\n",
    "        parent2 = random.choice(population)\n",
    "\n",
    "        crossover_point = np.random.randint(1, len(features) - 1)\n",
    "\n",
    "        child = np.concatenate((parent1[:crossover_point], parent2[crossover_point:]))\n",
    "        if np.random.rand() < 0.1:  # Chance of mutation is 10%\n",
    "            mutation_point = np.random.randint(len(features))\n",
    "            child[mutation_point] = 1 - child[mutation_point]\n",
    "        new_population.append(child)\n",
    "    \n",
    "    # Replace the old population with the new population\n",
    "    population = new_population\n",
    "    \n",
    "# Evaluate the fitness of each individual\n",
    "\n",
    "# best_solution = population[best_solution_index]\n",
    "# best_features = [feature for i, feature in enumerate(features) if best_solution[i] == 1]\n",
    "# print(\"Best feature combination:\", best_features)"
   ]
  },
  {
   "cell_type": "code",
   "execution_count": 18,
   "metadata": {},
   "outputs": [],
   "source": [
    "# Result of the 4th model\n",
    "model_3rd = ['10percentage', '12percentage', 'collegeGPA', 'English', 'Quant',\n",
    "              'ComputerProgramming', 'ElectronicsAndSemicon', 'ComputerScience',\n",
    "              'MechanicalEngg', 'conscientiousness', 'agreeableness', 'extraversion',\n",
    "              'nueroticism', 'openess_to_experience']\n"
   ]
  },
  {
   "cell_type": "markdown",
   "metadata": {},
   "source": [
    "## Thử nghiệm, so sánh các mô hình"
   ]
  },
  {
   "cell_type": "code",
   "execution_count": 19,
   "metadata": {},
   "outputs": [],
   "source": [
    "def calc_MAE_with_features_2(kFold, features):\n",
    "    for train_index, test_index in kFold.split(X_train):\n",
    "        y_features_train, y_features_test = y_train[train_index], y_train[test_index]\n",
    "\n",
    "        for i in features.keys():\n",
    "            x_features_train = X_train.loc[train_index, list(i)]\n",
    "            x_features_test = X_train.loc[test_index, list(i)]\n",
    "\n",
    "            lr = LinearRegression().fit(x_features_train, y_features_train)\n",
    " \n",
    "            y_pred = lr.predict(x_features_test)\n",
    "            \n",
    "            features[i].append(MAE(y_features_test, y_pred))\n",
    "    \n",
    "    return features"
   ]
  },
  {
   "cell_type": "code",
   "execution_count": 20,
   "metadata": {},
   "outputs": [
    {
     "name": "stdout",
     "output_type": "stream",
     "text": [
      "Best_personality_feature_model:  110651.34606721587 ('conscientiousness', 'Logical', '10percentage', 'collegeGPA', 'agreeableness', 'Quant', 'ComputerProgramming', 'English', 'Domain', '12percentage', 'nueroticism', 'openess_to_experience', 'ComputerScience', 'extraversion', 'Gender', 'CollegeTier')\n",
      "\n",
      "Cross-validation results:\n",
      "Model  1 :  110964.1798796\n",
      "Model  2 :  110651.34606721587\n",
      "Model  3 :  112383.24516815059\n"
     ]
    }
   ],
   "source": [
    "# Phần code cho yêu cầu 1d\n",
    "d_column = {\n",
    "    tuple(model_1st) : [],\n",
    "    tuple(model_2nd) : [],\n",
    "    tuple(model_3rd) : [],\n",
    "}\n",
    "\n",
    "d_column = calc_MAE_with_features_2(kf, d_column)\n",
    "\n",
    "# Tìm ra đặc trưng tốt nhất\n",
    "best_value, my_best_model = find_best_model(d_column)\n",
    "print(\"Best_personality_feature_model: \", best_value, my_best_model)\n",
    "\n",
    "# In ra các kết quả cross-validation như yêu cầu\n",
    "print(\"\\nCross-validation results:\")\n",
    "count = 1\n",
    "for i in d_column.keys():\n",
    "    print(\"Model \", count,\": \", np.mean(d_column[i]))\n",
    "    count += 1\n",
    "\n",
    "\n",
    "# Tìm ra mô hình tốt nhất (tự thiết kế bởi sinh viên)\n",
    "# In ra các kết quả cross-validation như yêu cầu"
   ]
  },
  {
   "cell_type": "code",
   "execution_count": 21,
   "metadata": {},
   "outputs": [],
   "source": [
    "# Huấn luyện lại mô hình my_best_model trên toàn bộ tập huấn luyện\n",
    "\n",
    "x_1d_train = X_train.loc[:, my_best_model]\n",
    "x_1d_test = X_test.loc[:, my_best_model]\n",
    "\n",
    "lr = LinearRegression().fit(x_1d_train, y_train)"
   ]
  },
  {
   "cell_type": "code",
   "execution_count": 22,
   "metadata": {},
   "outputs": [
    {
     "name": "stdout",
     "output_type": "stream",
     "text": [
      "MAE:  102431.57002986012\n"
     ]
    }
   ],
   "source": [
    "# Gọi hàm MAE (tự cài đặt hoặc từ thư viện) trên tập kiểm tra với mô hình my_best_model\n",
    "y_pred = lr.predict(x_1d_test)\n",
    "print(\"MAE: \", MAE(y_test, y_pred))\n",
    "# print(lr.get_params())\n"
   ]
  },
  {
   "cell_type": "markdown",
   "metadata": {},
   "source": [
    "Công thức hồi quy (phần trọng số làm tròn đến 3 chữ số thập phân, ví dụ 0.012345 $\\to$ 0.012)\n",
    "\n",
    "$$\\text{Salary} = -20216.903 * conscientiousness + 132.912 * Logical \n",
    "                    + 887.524 * 10percentage + 1689.069 * collegeGPA \\\\ + 16789.581 * agreeableness + 95.513 * Quant + 104.259 * ComputerProgramming + 148.766 * English \\\\ + 22104.286 * Domain + 971.041 * 12percentage - 9649.493 * nueroticism \n",
    "                    - 6317.617 * openess\\_to\\_experience \\\\ - 164.058 * ComputerScience + 5018.386 * extraversion - 23438.408 * Gender - 79706.706 * CollegeTier$$"
   ]
  }
 ],
 "metadata": {
  "kernelspec": {
   "display_name": "Python 3.8.5 ('base')",
   "language": "python",
   "name": "python3"
  },
  "language_info": {
   "codemirror_mode": {
    "name": "ipython",
    "version": 3
   },
   "file_extension": ".py",
   "mimetype": "text/x-python",
   "name": "python",
   "nbconvert_exporter": "python",
   "pygments_lexer": "ipython3",
   "version": "3.10.11"
  },
  "orig_nbformat": 4,
  "vscode": {
   "interpreter": {
    "hash": "15af99fd1a1a3f0a3416ea421564e792a8676a13670c2eed127d89ab0518a27b"
   }
  }
 },
 "nbformat": 4,
 "nbformat_minor": 2
}
